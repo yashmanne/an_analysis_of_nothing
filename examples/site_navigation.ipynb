{
 "cells": [
  {
   "cell_type": "markdown",
   "id": "88ff6ce5-a31b-4aa1-b7d8-c333adcf7731",
   "metadata": {},
   "source": [
    "Check out the ```/examples/README.md``` to learn how to view our website online, or locally!"
   ]
  },
  {
   "cell_type": "markdown",
   "id": "8621dc9d-8c30-4050-9a51-d772f284c448",
   "metadata": {},
   "source": [
    "### Home Page"
   ]
  },
  {
   "cell_type": "markdown",
   "id": "49d30754-ce5e-403f-bbfb-b57c7beaed5d",
   "metadata": {},
   "source": [
    "Beginning on the landing home page, view general descriptive analytics about Jerry, George, Kramer, and Elaine's spoken lines across different seasons of Seinfeld. Select up to all nine seasons and see how often your favorite characters were speaking, as well as the seasons' ratings over the years."
   ]
  },
  {
   "cell_type": "markdown",
   "id": "b85a11b8-23cf-4185-a451-9a31a7616077",
   "metadata": {},
   "source": [
    "Click to filter, scroll, and zoom."
   ]
  },
  {
   "cell_type": "markdown",
   "id": "001053b1-5471-4610-91c5-ac4a0338b2e5",
   "metadata": {},
   "source": [
    "### Episode Recommendation"
   ]
  },
  {
   "cell_type": "markdown",
   "id": "b5b4f4b0-3f50-4472-8bcf-ae3d9b0798cb",
   "metadata": {},
   "source": [
    "Users can navigate to the Episode Recommendation tab to find new episodes based on the ones they already love. Use the dropdown menu to select how many recommendations to view, and search and enter the titles of some previously enjoyed episodes."
   ]
  },
  {
   "cell_type": "markdown",
   "id": "06cc0bec-ba49-44b8-ada0-4fc32dc4b4fd",
   "metadata": {},
   "source": [
    "Within seconds, view recommendations based on sentiment, lines spoken, episode key words, and more. Then click on any recommended episode to view its IMDb description."
   ]
  },
  {
   "cell_type": "markdown",
   "id": "897f486c-f0a0-477e-8f9e-3393175e2e83",
   "metadata": {},
   "source": [
    "![Episode Rec Image]()"
   ]
  },
  {
   "cell_type": "markdown",
   "id": "627c6226-9f3b-42e0-a493-dd2116e3e56f",
   "metadata": {},
   "source": [
    "### Episode Querying"
   ]
  },
  {
   "cell_type": "markdown",
   "id": "df163b5a-99de-4fc6-b4e7-8a1e9d47b1d1",
   "metadata": {},
   "source": [
    "For fans who are looking for specific episode lines, dialogues, or scenes, or general users who're not sure what episode to use for recommendation, the Query Episodes tab allows for filtered search of all Seinfeld episodes. "
   ]
  },
  {
   "cell_type": "markdown",
   "id": "d89f8517-f57d-4561-891c-68ff35d993fb",
   "metadata": {},
   "source": [
    "Navigate to the search bar and enter any search criteria, and view up to five recommendations ranked by similarity to the input query. Additionally, use the sidebar to filter by up to nine seasons, select any characters of interest, and toggle to filter minimum and maximum episode ratings."
   ]
  },
  {
   "cell_type": "markdown",
   "id": "23ed40b4-3e62-41d9-9833-9ecc4b72fa68",
   "metadata": {},
   "source": [
    "Upon receiving a response, click any returned episode to view its IMDb description, as well charts depicting the average sentiment of the episode and the average sentiment of all characters present in the episode. Zoom, scroll, hover and click on any character name to learn more."
   ]
  },
  {
   "cell_type": "markdown",
   "id": "5228754d-82f4-43d3-90f7-f77385e1a380",
   "metadata": {},
   "source": [
    "![Episode Querying Image]()"
   ]
  },
  {
   "cell_type": "markdown",
   "id": "f18a14a8-4115-40d1-ab38-679a9f683fbd",
   "metadata": {},
   "source": [
    "### About Us\n",
    "\n",
    "Navigate to this tab to learn more background information about this UW DATA515 project."
   ]
  },
  {
   "cell_type": "markdown",
   "id": "8061ba49-adc6-4eaf-8556-8ed75291e59f",
   "metadata": {},
   "source": [
    "## Live Demo"
   ]
  },
  {
   "cell_type": "markdown",
   "id": "9fe41ffc-d881-453e-b244-6cdf4db60fcb",
   "metadata": {},
   "source": [
    "insert link to demo!"
   ]
  },
  {
   "cell_type": "markdown",
   "id": "8f1b5dc2-93c2-4146-9110-a8dc157337b7",
   "metadata": {},
   "source": [
    "![Demo]()"
   ]
  },
  {
   "cell_type": "code",
   "execution_count": null,
   "id": "38e41117-6f7b-425f-9e74-09d6fafa158e",
   "metadata": {},
   "outputs": [],
   "source": []
  }
 ],
 "metadata": {
  "kernelspec": {
   "display_name": "Python 3.8.2 64-bit",
   "language": "python",
   "name": "python382jvsc74a57bd031f2aee4e71d21fbe5cf8b01ff0e069b9275f58929596ceb00d14d90e3e16cd6"
  },
  "language_info": {
   "codemirror_mode": {
    "name": "ipython",
    "version": 3
   },
   "file_extension": ".py",
   "mimetype": "text/x-python",
   "name": "python",
   "nbconvert_exporter": "python",
   "pygments_lexer": "ipython3",
   "version": "3.8.2"
  }
 },
 "nbformat": 4,
 "nbformat_minor": 5
}
